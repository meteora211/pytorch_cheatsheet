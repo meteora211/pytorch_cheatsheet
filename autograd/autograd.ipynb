{
 "cells": [
  {
   "cell_type": "code",
   "execution_count": 1,
   "id": "1cc40cde-3a64-4415-888b-5bafb54462bf",
   "metadata": {},
   "outputs": [
    {
     "name": "stdout",
     "output_type": "stream",
     "text": [
      "Requirement already satisfied: torchviz in /home/zhaorui/miniconda3/lib/python3.9/site-packages (0.0.2)\n",
      "Requirement already satisfied: torch in /home/zhaorui/miniconda3/lib/python3.9/site-packages (from torchviz) (2.1.0)\n",
      "Requirement already satisfied: graphviz in /home/zhaorui/miniconda3/lib/python3.9/site-packages (from torchviz) (0.20.1)\n",
      "Requirement already satisfied: nvidia-cudnn-cu12==8.9.2.26 in /home/zhaorui/miniconda3/lib/python3.9/site-packages (from torch->torchviz) (8.9.2.26)\n",
      "Requirement already satisfied: nvidia-cuda-nvrtc-cu12==12.1.105 in /home/zhaorui/miniconda3/lib/python3.9/site-packages (from torch->torchviz) (12.1.105)\n",
      "Requirement already satisfied: nvidia-cuda-runtime-cu12==12.1.105 in /home/zhaorui/miniconda3/lib/python3.9/site-packages (from torch->torchviz) (12.1.105)\n",
      "Requirement already satisfied: nvidia-cusolver-cu12==11.4.5.107 in /home/zhaorui/miniconda3/lib/python3.9/site-packages (from torch->torchviz) (11.4.5.107)\n",
      "Requirement already satisfied: nvidia-cuda-cupti-cu12==12.1.105 in /home/zhaorui/miniconda3/lib/python3.9/site-packages (from torch->torchviz) (12.1.105)\n",
      "Requirement already satisfied: nvidia-cusparse-cu12==12.1.0.106 in /home/zhaorui/miniconda3/lib/python3.9/site-packages (from torch->torchviz) (12.1.0.106)\n",
      "Requirement already satisfied: jinja2 in /home/zhaorui/miniconda3/lib/python3.9/site-packages (from torch->torchviz) (3.1.2)\n",
      "Requirement already satisfied: networkx in /home/zhaorui/miniconda3/lib/python3.9/site-packages (from torch->torchviz) (3.2)\n",
      "Requirement already satisfied: nvidia-cublas-cu12==12.1.3.1 in /home/zhaorui/miniconda3/lib/python3.9/site-packages (from torch->torchviz) (12.1.3.1)\n",
      "Requirement already satisfied: nvidia-cufft-cu12==11.0.2.54 in /home/zhaorui/miniconda3/lib/python3.9/site-packages (from torch->torchviz) (11.0.2.54)\n",
      "Requirement already satisfied: fsspec in /home/zhaorui/miniconda3/lib/python3.9/site-packages (from torch->torchviz) (2023.10.0)\n",
      "Requirement already satisfied: nvidia-nccl-cu12==2.18.1 in /home/zhaorui/miniconda3/lib/python3.9/site-packages (from torch->torchviz) (2.18.1)\n",
      "Requirement already satisfied: sympy in /home/zhaorui/miniconda3/lib/python3.9/site-packages (from torch->torchviz) (1.12)\n",
      "Requirement already satisfied: filelock in /home/zhaorui/miniconda3/lib/python3.9/site-packages (from torch->torchviz) (3.12.4)\n",
      "Requirement already satisfied: typing-extensions in /home/zhaorui/miniconda3/lib/python3.9/site-packages (from torch->torchviz) (4.8.0)\n",
      "Requirement already satisfied: triton==2.1.0 in /home/zhaorui/miniconda3/lib/python3.9/site-packages (from torch->torchviz) (2.1.0)\n",
      "Requirement already satisfied: nvidia-curand-cu12==10.3.2.106 in /home/zhaorui/miniconda3/lib/python3.9/site-packages (from torch->torchviz) (10.3.2.106)\n",
      "Requirement already satisfied: nvidia-nvtx-cu12==12.1.105 in /home/zhaorui/miniconda3/lib/python3.9/site-packages (from torch->torchviz) (12.1.105)\n",
      "Requirement already satisfied: nvidia-nvjitlink-cu12 in /home/zhaorui/miniconda3/lib/python3.9/site-packages (from nvidia-cusolver-cu12==11.4.5.107->torch->torchviz) (12.3.52)\n",
      "Requirement already satisfied: MarkupSafe>=2.0 in /home/zhaorui/miniconda3/lib/python3.9/site-packages (from jinja2->torch->torchviz) (2.1.3)\n",
      "Requirement already satisfied: mpmath>=0.19 in /home/zhaorui/miniconda3/lib/python3.9/site-packages (from sympy->torch->torchviz) (1.3.0)\n"
     ]
    }
   ],
   "source": [
    "\n",
    "# !pip install torchviz"
   ]
  },
  {
   "cell_type": "markdown",
   "id": "db08861a-02d0-4876-abf3-2bbb125661f2",
   "metadata": {},
   "source": [
    "# Autograd"
   ]
  },
  {
   "cell_type": "markdown",
   "id": "2ea2bbd9-6a53-4808-9c9a-0c31b10b2334",
   "metadata": {},
   "source": [
    "We want to learn A and B such that `t = Ax + B`,(solution for our data is A = 2, B = 3)"
   ]
  },
  {
   "cell_type": "code",
   "execution_count": 2,
   "id": "f709c514-a091-4528-a47c-b5db030aa94d",
   "metadata": {},
   "outputs": [],
   "source": [
    "import torch\n",
    "x = torch.tensor([1., 2.])\n",
    "t = torch.tensor([5., 7.])\n",
    "# using wrong input for training\n",
    "A = torch.tensor([3.], requires_grad=True)\n",
    "B = torch.tensor([5.], requires_grad=True)"
   ]
  },
  {
   "cell_type": "markdown",
   "id": "da6e7d92-2101-4297-a43e-1b7a4541885e",
   "metadata": {},
   "source": [
    "Define model as following:"
   ]
  },
  {
   "cell_type": "code",
   "execution_count": 3,
   "id": "73219bbe-7bda-4780-bdef-6645f5c4ab37",
   "metadata": {},
   "outputs": [],
   "source": [
    "def model(x):\n",
    "    scaled = A * x\n",
    "    return scaled + B"
   ]
  },
  {
   "cell_type": "markdown",
   "id": "f4b613fa-3cfa-4128-8b6d-2762865c6525",
   "metadata": {},
   "source": [
    "We define a loss function to measure how far the output of our model is from the expected (target) values. This is a squared-error loss."
   ]
  },
  {
   "cell_type": "code",
   "execution_count": 4,
   "id": "acf012c4-0cd9-4869-9758-7222351c1535",
   "metadata": {},
   "outputs": [],
   "source": [
    "def loss_fn(y, t):\n",
    "    diff = y - t;\n",
    "    sqdiff = diff ** 2\n",
    "    return sqdiff.sum()"
   ]
  },
  {
   "cell_type": "markdown",
   "id": "2c37caf3-ccd2-4eb0-8877-30f47b9b28fc",
   "metadata": {},
   "source": [
    "Here is our \"optimizer step\". After we've computed gradients for A and B, we will update A and B via stochastic gradient descent."
   ]
  },
  {
   "cell_type": "code",
   "execution_count": 5,
   "id": "aec22124-3c14-4432-8d8b-ff71238d2084",
   "metadata": {},
   "outputs": [],
   "source": [
    "def sgd_step(lr = 0.1):\n",
    "    global A\n",
    "    global B\n",
    "    with torch.no_grad():\n",
    "        A -= A.grad * lr\n",
    "        A.grad.zero_()\n",
    "        B -= B.grad * lr\n",
    "        B.grad.zero_()"
   ]
  },
  {
   "cell_type": "markdown",
   "id": "c6c9646f-847c-4655-adb0-66de4c53d24c",
   "metadata": {},
   "source": [
    "train the model:"
   ]
  },
  {
   "cell_type": "code",
   "execution_count": 6,
   "id": "263a5189-787c-42bf-8cc2-ab75333bf887",
   "metadata": {},
   "outputs": [
    {
     "name": "stdout",
     "output_type": "stream",
     "text": [
      "loss: 25.0, A: 0.7999999523162842, B: 3.5999999046325684\n",
      "loss: 0.0005399102228693664, A: 1.9689515829086304, B: 3.0502371788024902\n",
      "loss: 1.445937641619821e-06, A: 1.9983934164047241, B: 3.0025997161865234\n",
      "loss: 3.852846930385567e-09, A: 1.9999167919158936, B: 3.0001344680786133\n",
      "loss: 1.0231815394945443e-11, A: 1.9999959468841553, B: 3.0000064373016357\n",
      "loss: 1.1368683772161603e-12, A: 1.9999983310699463, B: 3.000002861022949\n",
      "loss: 1.1368683772161603e-12, A: 1.9999983310699463, B: 3.000002861022949\n",
      "loss: 1.1368683772161603e-12, A: 1.9999983310699463, B: 3.000002861022949\n",
      "loss: 1.1368683772161603e-12, A: 1.9999983310699463, B: 3.000002861022949\n",
      "loss: 1.1368683772161603e-12, A: 1.9999983310699463, B: 3.000002861022949\n"
     ]
    }
   ],
   "source": [
    "for i in range(1000):\n",
    "    y = model(x)\n",
    "    loss = loss_fn(y, t)\n",
    "    loss.backward()\n",
    "    sgd_step()\n",
    "    if i % 100 == 0:\n",
    "        print(\"loss: {}, A: {}, B: {}\".format(loss, A.item(), B.item()))"
   ]
  },
  {
   "cell_type": "markdown",
   "id": "1340ab0f-19a2-465f-9f49-1eafdf28443f",
   "metadata": {},
   "source": [
    "Put forward togather to manual calculate grad:"
   ]
  },
  {
   "cell_type": "code",
   "execution_count": 7,
   "id": "870270a3-cc7c-47ae-b545-21d0b9d238e7",
   "metadata": {},
   "outputs": [],
   "source": [
    "x = torch.tensor([1., 2.])\n",
    "t = torch.tensor([5., 7.])\n",
    "# using wrong input for training\n",
    "A = torch.tensor([3.], requires_grad=True)\n",
    "B = torch.tensor([5.], requires_grad=True)\n",
    "\n",
    "# Forward\n",
    "scaled = A * x\n",
    "y = scaled + B\n",
    "diff = y - t\n",
    "sqdiff = diff ** 2\n",
    "loss = sqdiff.sum()"
   ]
  },
  {
   "cell_type": "markdown",
   "id": "be1cb496-5db4-4d96-8b37-efbe5f372a45",
   "metadata": {},
   "source": [
    "\n",
    "\n",
    "The goal for gradient descent is to compute the gradient of the loss with respect to the input parameters. In the above example, since we are learning A and B, we want to compute $\\frac{\\partial loss}{\\partial A}, \\frac{\\partial loss}{\\partial B}$.\n"
   ]
  },
  {
   "cell_type": "markdown",
   "id": "632ccb65-391f-467a-b386-29abd23146bb",
   "metadata": {},
   "source": [
    "We can compute these via the chain rule.\n",
    "\n",
    "$ \\frac{\\partial loss}{\\partial A} = \\sum_i \\frac{\\partial loss}{\\partial sqdiff_i} * \\frac{\\partial sqdiff_i}{\\partial A}$ (applied chain rule once)\n",
    "\n",
    "$= \\sum_i \\frac{\\partial loss}{\\partial sqdiff_i} * \\frac{\\partial sqdiff_i}{\\partial diff_i} * \\frac{\\partial diff_i}{\\partial A}$\n",
    "\n",
    "$= \\sum_i \\frac{\\partial loss}{\\partial sqdiff_i} * \\frac{\\partial sqdiff_i}{\\partial diff_i} * \\frac{\\partial diff_i}{\\partial y_i} * \\frac{\\partial y_i}{\\partial scaled_i} * \\frac{\\partial scaled_i}{\\partial A}$ (keep applying chain rule)"
   ]
  },
  {
   "cell_type": "markdown",
   "id": "a3848b72-5358-431f-9b26-6672d5808b4d",
   "metadata": {},
   "source": [
    "Things we know:\n",
    "$$ \\frac{\\partial loss}{\\partial sqdiff_i} = 1$$\n",
    "\n",
    "$$ \\frac{\\partial sqdiff_i}{\\partial diff_i} = 2 * diff_i$$\n",
    "\n",
    "$$ \\frac{\\partial diff_i}{\\partial y_i} = 1 $$\n",
    "\n",
    "$$ \\frac{\\partial y_i}{\\partial scaled_i} = 1 $$\n",
    "\n",
    "$$ \\frac{\\partial scaled_i}{\\partial A} = x_i $$"
   ]
  },
  {
   "cell_type": "markdown",
   "id": "c7e95874-66b7-4f43-9354-4ba767452b0e",
   "metadata": {},
   "source": [
    "Plugging everything back in, we get:\n",
    "\n",
    "$$ \\frac{\\partial loss}{\\partial A} = \\sum_i 2 * diff_i * x_i$$\n",
    "\n",
    "Let's verify our math really quickly:"
   ]
  },
  {
   "cell_type": "code",
   "execution_count": 8,
   "id": "30a22f8c-067e-4ed6-9d08-f1e1afac373f",
   "metadata": {},
   "outputs": [],
   "source": [
    "# backward\n",
    "grad_A = (2 * diff * x).sum()\n",
    "grad_B = (2 * diff).sum()\n",
    "expected = torch.autograd.grad(loss, [A,B], retain_graph=True)\n",
    "assert torch.allclose(grad_A, expected[0])\n",
    "assert torch.allclose(grad_B, expected[1])"
   ]
  },
  {
   "cell_type": "code",
   "execution_count": 11,
   "id": "aaa29e50-6d53-48c7-9f44-417e2a3e25d2",
   "metadata": {},
   "outputs": [
    {
     "data": {
      "image/svg+xml": [
       "<?xml version=\"1.0\" encoding=\"UTF-8\" standalone=\"no\"?>\n",
       "<!DOCTYPE svg PUBLIC \"-//W3C//DTD SVG 1.1//EN\"\n",
       " \"http://www.w3.org/Graphics/SVG/1.1/DTD/svg11.dtd\">\n",
       "<!-- Generated by graphviz version 2.43.0 (0)\n",
       " -->\n",
       "<!-- Title: %3 Pages: 1 -->\n",
       "<svg width=\"222pt\" height=\"446pt\"\n",
       " viewBox=\"0.00 0.00 222.00 446.00\" xmlns=\"http://www.w3.org/2000/svg\" xmlns:xlink=\"http://www.w3.org/1999/xlink\">\n",
       "<g id=\"graph0\" class=\"graph\" transform=\"scale(1 1) rotate(0) translate(4 442)\">\n",
       "<title>%3</title>\n",
       "<polygon fill=\"white\" stroke=\"transparent\" points=\"-4,4 -4,-442 218,-442 218,4 -4,4\"/>\n",
       "<!-- 140115192133728 -->\n",
       "<g id=\"node1\" class=\"node\">\n",
       "<title>140115192133728</title>\n",
       "<polygon fill=\"#caff70\" stroke=\"black\" points=\"133.5,-31 79.5,-31 79.5,0 133.5,0 133.5,-31\"/>\n",
       "<text text-anchor=\"middle\" x=\"106.5\" y=\"-7\" font-family=\"monospace\" font-size=\"10.00\"> ()</text>\n",
       "</g>\n",
       "<!-- 140110610413888 -->\n",
       "<g id=\"node2\" class=\"node\">\n",
       "<title>140110610413888</title>\n",
       "<polygon fill=\"lightgrey\" stroke=\"black\" points=\"151,-86 62,-86 62,-67 151,-67 151,-86\"/>\n",
       "<text text-anchor=\"middle\" x=\"106.5\" y=\"-74\" font-family=\"monospace\" font-size=\"10.00\">SumBackward0</text>\n",
       "</g>\n",
       "<!-- 140110610413888&#45;&gt;140115192133728 -->\n",
       "<g id=\"edge9\" class=\"edge\">\n",
       "<title>140110610413888&#45;&gt;140115192133728</title>\n",
       "<path fill=\"none\" stroke=\"black\" d=\"M106.5,-66.79C106.5,-60.07 106.5,-50.4 106.5,-41.34\"/>\n",
       "<polygon fill=\"black\" stroke=\"black\" points=\"110,-41.19 106.5,-31.19 103,-41.19 110,-41.19\"/>\n",
       "</g>\n",
       "<!-- 140110610414080 -->\n",
       "<g id=\"node3\" class=\"node\">\n",
       "<title>140110610414080</title>\n",
       "<polygon fill=\"lightgrey\" stroke=\"black\" points=\"151,-141 62,-141 62,-122 151,-122 151,-141\"/>\n",
       "<text text-anchor=\"middle\" x=\"106.5\" y=\"-129\" font-family=\"monospace\" font-size=\"10.00\">PowBackward0</text>\n",
       "</g>\n",
       "<!-- 140110610414080&#45;&gt;140110610413888 -->\n",
       "<g id=\"edge1\" class=\"edge\">\n",
       "<title>140110610414080&#45;&gt;140110610413888</title>\n",
       "<path fill=\"none\" stroke=\"black\" d=\"M106.5,-121.75C106.5,-114.8 106.5,-104.85 106.5,-96.13\"/>\n",
       "<polygon fill=\"black\" stroke=\"black\" points=\"110,-96.09 106.5,-86.09 103,-96.09 110,-96.09\"/>\n",
       "</g>\n",
       "<!-- 140110610413312 -->\n",
       "<g id=\"node4\" class=\"node\">\n",
       "<title>140110610413312</title>\n",
       "<polygon fill=\"lightgrey\" stroke=\"black\" points=\"151,-196 62,-196 62,-177 151,-177 151,-196\"/>\n",
       "<text text-anchor=\"middle\" x=\"106.5\" y=\"-184\" font-family=\"monospace\" font-size=\"10.00\">SubBackward0</text>\n",
       "</g>\n",
       "<!-- 140110610413312&#45;&gt;140110610414080 -->\n",
       "<g id=\"edge2\" class=\"edge\">\n",
       "<title>140110610413312&#45;&gt;140110610414080</title>\n",
       "<path fill=\"none\" stroke=\"black\" d=\"M106.5,-176.75C106.5,-169.8 106.5,-159.85 106.5,-151.13\"/>\n",
       "<polygon fill=\"black\" stroke=\"black\" points=\"110,-151.09 106.5,-141.09 103,-151.09 110,-151.09\"/>\n",
       "</g>\n",
       "<!-- 140110610413696 -->\n",
       "<g id=\"node5\" class=\"node\">\n",
       "<title>140110610413696</title>\n",
       "<polygon fill=\"lightgrey\" stroke=\"black\" points=\"151,-251 62,-251 62,-232 151,-232 151,-251\"/>\n",
       "<text text-anchor=\"middle\" x=\"106.5\" y=\"-239\" font-family=\"monospace\" font-size=\"10.00\">AddBackward0</text>\n",
       "</g>\n",
       "<!-- 140110610413696&#45;&gt;140110610413312 -->\n",
       "<g id=\"edge3\" class=\"edge\">\n",
       "<title>140110610413696&#45;&gt;140110610413312</title>\n",
       "<path fill=\"none\" stroke=\"black\" d=\"M106.5,-231.75C106.5,-224.8 106.5,-214.85 106.5,-206.13\"/>\n",
       "<polygon fill=\"black\" stroke=\"black\" points=\"110,-206.09 106.5,-196.09 103,-206.09 110,-206.09\"/>\n",
       "</g>\n",
       "<!-- 140110610414032 -->\n",
       "<g id=\"node6\" class=\"node\">\n",
       "<title>140110610414032</title>\n",
       "<polygon fill=\"lightgrey\" stroke=\"black\" points=\"95,-306 6,-306 6,-287 95,-287 95,-306\"/>\n",
       "<text text-anchor=\"middle\" x=\"50.5\" y=\"-294\" font-family=\"monospace\" font-size=\"10.00\">MulBackward0</text>\n",
       "</g>\n",
       "<!-- 140110610414032&#45;&gt;140110610413696 -->\n",
       "<g id=\"edge4\" class=\"edge\">\n",
       "<title>140110610414032&#45;&gt;140110610413696</title>\n",
       "<path fill=\"none\" stroke=\"black\" d=\"M59.5,-286.98C67.69,-279.23 80.01,-267.58 89.97,-258.14\"/>\n",
       "<polygon fill=\"black\" stroke=\"black\" points=\"92.48,-260.59 97.34,-251.17 87.67,-255.5 92.48,-260.59\"/>\n",
       "</g>\n",
       "<!-- 140110610412928 -->\n",
       "<g id=\"node7\" class=\"node\">\n",
       "<title>140110610412928</title>\n",
       "<polygon fill=\"lightgrey\" stroke=\"black\" points=\"101,-366.5 0,-366.5 0,-347.5 101,-347.5 101,-366.5\"/>\n",
       "<text text-anchor=\"middle\" x=\"50.5\" y=\"-354.5\" font-family=\"monospace\" font-size=\"10.00\">AccumulateGrad</text>\n",
       "</g>\n",
       "<!-- 140110610412928&#45;&gt;140110610414032 -->\n",
       "<g id=\"edge5\" class=\"edge\">\n",
       "<title>140110610412928&#45;&gt;140110610414032</title>\n",
       "<path fill=\"none\" stroke=\"black\" d=\"M50.5,-347.37C50.5,-339.25 50.5,-326.81 50.5,-316.39\"/>\n",
       "<polygon fill=\"black\" stroke=\"black\" points=\"54,-316.17 50.5,-306.17 47,-316.17 54,-316.17\"/>\n",
       "</g>\n",
       "<!-- 140111464981184 -->\n",
       "<g id=\"node8\" class=\"node\">\n",
       "<title>140111464981184</title>\n",
       "<polygon fill=\"lightblue\" stroke=\"black\" points=\"77.5,-438 23.5,-438 23.5,-408 77.5,-408 77.5,-438\"/>\n",
       "<text text-anchor=\"middle\" x=\"50.5\" y=\"-426\" font-family=\"monospace\" font-size=\"10.00\">A</text>\n",
       "<text text-anchor=\"middle\" x=\"50.5\" y=\"-415\" font-family=\"monospace\" font-size=\"10.00\"> (1)</text>\n",
       "</g>\n",
       "<!-- 140111464981184&#45;&gt;140110610412928 -->\n",
       "<g id=\"edge6\" class=\"edge\">\n",
       "<title>140111464981184&#45;&gt;140110610412928</title>\n",
       "<path fill=\"none\" stroke=\"black\" d=\"M50.5,-407.8C50.5,-398.7 50.5,-386.79 50.5,-376.9\"/>\n",
       "<polygon fill=\"black\" stroke=\"black\" points=\"54,-376.84 50.5,-366.84 47,-376.84 54,-376.84\"/>\n",
       "</g>\n",
       "<!-- 140110610415568 -->\n",
       "<g id=\"node9\" class=\"node\">\n",
       "<title>140110610415568</title>\n",
       "<polygon fill=\"lightgrey\" stroke=\"black\" points=\"214,-306 113,-306 113,-287 214,-287 214,-306\"/>\n",
       "<text text-anchor=\"middle\" x=\"163.5\" y=\"-294\" font-family=\"monospace\" font-size=\"10.00\">AccumulateGrad</text>\n",
       "</g>\n",
       "<!-- 140110610415568&#45;&gt;140110610413696 -->\n",
       "<g id=\"edge7\" class=\"edge\">\n",
       "<title>140110610415568&#45;&gt;140110610413696</title>\n",
       "<path fill=\"none\" stroke=\"black\" d=\"M154.34,-286.98C146,-279.23 133.47,-267.58 123.32,-258.14\"/>\n",
       "<polygon fill=\"black\" stroke=\"black\" points=\"125.53,-255.42 115.82,-251.17 120.76,-260.54 125.53,-255.42\"/>\n",
       "</g>\n",
       "<!-- 140111744035792 -->\n",
       "<g id=\"node10\" class=\"node\">\n",
       "<title>140111744035792</title>\n",
       "<polygon fill=\"lightblue\" stroke=\"black\" points=\"190.5,-372 136.5,-372 136.5,-342 190.5,-342 190.5,-372\"/>\n",
       "<text text-anchor=\"middle\" x=\"163.5\" y=\"-360\" font-family=\"monospace\" font-size=\"10.00\">B</text>\n",
       "<text text-anchor=\"middle\" x=\"163.5\" y=\"-349\" font-family=\"monospace\" font-size=\"10.00\"> (1)</text>\n",
       "</g>\n",
       "<!-- 140111744035792&#45;&gt;140110610415568 -->\n",
       "<g id=\"edge8\" class=\"edge\">\n",
       "<title>140111744035792&#45;&gt;140110610415568</title>\n",
       "<path fill=\"none\" stroke=\"black\" d=\"M163.5,-341.84C163.5,-334.21 163.5,-324.7 163.5,-316.45\"/>\n",
       "<polygon fill=\"black\" stroke=\"black\" points=\"167,-316.27 163.5,-306.27 160,-316.27 167,-316.27\"/>\n",
       "</g>\n",
       "</g>\n",
       "</svg>\n"
      ],
      "text/plain": [
       "<graphviz.graphs.Digraph at 0x7f6e0b29bc10>"
      ]
     },
     "execution_count": 11,
     "metadata": {},
     "output_type": "execute_result"
    }
   ],
   "source": [
    "import torchviz\n",
    "torchviz.make_dot(loss, params={'A': A, 'B': B, 'x': x, 'diff': diff})"
   ]
  },
  {
   "cell_type": "markdown",
   "id": "1c403ae9-fbe0-4226-997a-ba69a159f9bc",
   "metadata": {},
   "source": [
    "\n",
    "\n",
    "What is this AccumulateGrad Node?\n",
    "\n",
    "Every leaf Tensor that requires gradient gets an AccumulateGrad Node associated with it. That Node is used to link back to the Tensor and know on which Tensor the gradients should be accumulated. Note that the AccumulateGrad Nodes are the only Nodes that do not have parents pointing to them.\n"
   ]
  },
  {
   "cell_type": "markdown",
   "id": "b9a7402d-0a8e-4a51-b5d5-683fd8fa83bd",
   "metadata": {},
   "source": [
    "`loss.backward()` invokes a series of operations on this graph. In Pseudocode:\n",
    "\n",
    "```\n",
    "grad_sqdiff = SumBackward(sqdiff.shape).apply(1.)\n",
    "grad_diff = PowBackward(base: diff, power: 2).apply(grad_sqdiff)\n",
    "grad_y = SubBackward().apply(grad_diff)\n",
    "grad_scaled, grad_B = AddBackward().apply(grad_y)\n",
    "grad_A = MulBackward(other: X).apply(grad_scaled)\n",
    "```\n",
    "\n",
    "`SumBackward(input_shape).apply(grad)` is `grad.expand(input_shape)`.\n",
    "\n",
    "`PowBackward(base, power).apply(grad)` is `grad * power * base ** (power - 1)`. \n",
    "\n",
    "And so on..."
   ]
  },
  {
   "cell_type": "markdown",
   "id": "1e9d6e14-2042-4339-9b96-c026a80bb070",
   "metadata": {},
   "source": [
    "## What about these saved Tensors that might be needed for backward?\n",
    "\n",
    "Autograd will automatically save all the required data to be able to compute the backward pass.\n",
    "\n",
    "You can actually see these saved properties here:"
   ]
  },
  {
   "cell_type": "code",
   "execution_count": 12,
   "id": "13a37bb2-6958-46d4-b474-962aaf56fa30",
   "metadata": {},
   "outputs": [
    {
     "data": {
      "image/svg+xml": [
       "<?xml version=\"1.0\" encoding=\"UTF-8\" standalone=\"no\"?>\n",
       "<!DOCTYPE svg PUBLIC \"-//W3C//DTD SVG 1.1//EN\"\n",
       " \"http://www.w3.org/Graphics/SVG/1.1/DTD/svg11.dtd\">\n",
       "<!-- Generated by graphviz version 2.43.0 (0)\n",
       " -->\n",
       "<!-- Title: %3 Pages: 1 -->\n",
       "<svg width=\"279pt\" height=\"578pt\"\n",
       " viewBox=\"0.00 0.00 278.50 578.00\" xmlns=\"http://www.w3.org/2000/svg\" xmlns:xlink=\"http://www.w3.org/1999/xlink\">\n",
       "<g id=\"graph0\" class=\"graph\" transform=\"scale(1 1) rotate(0) translate(4 574)\">\n",
       "<title>%3</title>\n",
       "<polygon fill=\"white\" stroke=\"transparent\" points=\"-4,4 -4,-574 274.5,-574 274.5,4 -4,4\"/>\n",
       "<!-- 140115192133728 -->\n",
       "<g id=\"node1\" class=\"node\">\n",
       "<title>140115192133728</title>\n",
       "<polygon fill=\"#caff70\" stroke=\"black\" points=\"156.5,-31 102.5,-31 102.5,0 156.5,0 156.5,-31\"/>\n",
       "<text text-anchor=\"middle\" x=\"129.5\" y=\"-7\" font-family=\"monospace\" font-size=\"10.00\"> ()</text>\n",
       "</g>\n",
       "<!-- 140110610413888 -->\n",
       "<g id=\"node2\" class=\"node\">\n",
       "<title>140110610413888</title>\n",
       "<polygon fill=\"lightgrey\" stroke=\"black\" points=\"198,-108 61,-108 61,-67 198,-67 198,-108\"/>\n",
       "<text text-anchor=\"middle\" x=\"129.5\" y=\"-96\" font-family=\"monospace\" font-size=\"10.00\">SumBackward0</text>\n",
       "<text text-anchor=\"middle\" x=\"129.5\" y=\"-85\" font-family=\"monospace\" font-size=\"10.00\">&#45;&#45;&#45;&#45;&#45;&#45;&#45;&#45;&#45;&#45;&#45;&#45;&#45;&#45;&#45;&#45;&#45;&#45;&#45;&#45;</text>\n",
       "<text text-anchor=\"middle\" x=\"129.5\" y=\"-74\" font-family=\"monospace\" font-size=\"10.00\">self_sym_sizes: (2,)</text>\n",
       "</g>\n",
       "<!-- 140110610413888&#45;&gt;140115192133728 -->\n",
       "<g id=\"edge11\" class=\"edge\">\n",
       "<title>140110610413888&#45;&gt;140115192133728</title>\n",
       "<path fill=\"none\" stroke=\"black\" d=\"M129.5,-66.63C129.5,-58.76 129.5,-49.63 129.5,-41.33\"/>\n",
       "<polygon fill=\"black\" stroke=\"black\" points=\"133,-41.08 129.5,-31.08 126,-41.08 133,-41.08\"/>\n",
       "</g>\n",
       "<!-- 140110610414080 -->\n",
       "<g id=\"node3\" class=\"node\">\n",
       "<title>140110610414080</title>\n",
       "<polygon fill=\"lightgrey\" stroke=\"black\" points=\"267,-196 106,-196 106,-144 267,-144 267,-196\"/>\n",
       "<text text-anchor=\"middle\" x=\"186.5\" y=\"-184\" font-family=\"monospace\" font-size=\"10.00\">PowBackward0</text>\n",
       "<text text-anchor=\"middle\" x=\"186.5\" y=\"-173\" font-family=\"monospace\" font-size=\"10.00\">&#45;&#45;&#45;&#45;&#45;&#45;&#45;&#45;&#45;&#45;&#45;&#45;&#45;&#45;&#45;&#45;&#45;&#45;&#45;&#45;&#45;&#45;&#45;&#45;</text>\n",
       "<text text-anchor=\"middle\" x=\"186.5\" y=\"-162\" font-family=\"monospace\" font-size=\"10.00\">exponent: &#160;&#160;&#160;&#160;&#160;&#160;&#160;&#160;&#160;&#160;&#160;&#160;&#160;2</text>\n",
       "<text text-anchor=\"middle\" x=\"186.5\" y=\"-151\" font-family=\"monospace\" font-size=\"10.00\">self &#160;&#160;&#160;: [saved tensor]</text>\n",
       "</g>\n",
       "<!-- 140110610414080&#45;&gt;140110610413888 -->\n",
       "<g id=\"edge1\" class=\"edge\">\n",
       "<title>140110610414080&#45;&gt;140110610413888</title>\n",
       "<path fill=\"none\" stroke=\"black\" d=\"M168.78,-143.97C162.59,-135.23 155.6,-125.36 149.25,-116.4\"/>\n",
       "<polygon fill=\"black\" stroke=\"black\" points=\"152.05,-114.28 143.41,-108.15 146.33,-118.33 152.05,-114.28\"/>\n",
       "</g>\n",
       "<!-- 140111468702512 -->\n",
       "<g id=\"node4\" class=\"node\">\n",
       "<title>140111468702512</title>\n",
       "<polygon fill=\"orange\" stroke=\"black\" points=\"270.5,-102.5 216.5,-102.5 216.5,-72.5 270.5,-72.5 270.5,-102.5\"/>\n",
       "<text text-anchor=\"middle\" x=\"243.5\" y=\"-90.5\" font-family=\"monospace\" font-size=\"10.00\">self</text>\n",
       "<text text-anchor=\"middle\" x=\"243.5\" y=\"-79.5\" font-family=\"monospace\" font-size=\"10.00\"> (2)</text>\n",
       "</g>\n",
       "<!-- 140110610414080&#45;&gt;140111468702512 -->\n",
       "<g id=\"edge2\" class=\"edge\">\n",
       "<title>140110610414080&#45;&gt;140111468702512</title>\n",
       "<path fill=\"none\" stroke=\"black\" d=\"M204.22,-143.97C213.77,-130.49 225.2,-114.35 233.26,-102.96\"/>\n",
       "</g>\n",
       "<!-- 140110610413312 -->\n",
       "<g id=\"node5\" class=\"node\">\n",
       "<title>140110610413312</title>\n",
       "<polygon fill=\"lightgrey\" stroke=\"black\" points=\"231,-273 142,-273 142,-232 231,-232 231,-273\"/>\n",
       "<text text-anchor=\"middle\" x=\"186.5\" y=\"-261\" font-family=\"monospace\" font-size=\"10.00\">SubBackward0</text>\n",
       "<text text-anchor=\"middle\" x=\"186.5\" y=\"-250\" font-family=\"monospace\" font-size=\"10.00\">&#45;&#45;&#45;&#45;&#45;&#45;&#45;&#45;&#45;&#45;&#45;&#45;</text>\n",
       "<text text-anchor=\"middle\" x=\"186.5\" y=\"-239\" font-family=\"monospace\" font-size=\"10.00\">alpha: 1</text>\n",
       "</g>\n",
       "<!-- 140110610413312&#45;&gt;140110610414080 -->\n",
       "<g id=\"edge3\" class=\"edge\">\n",
       "<title>140110610413312&#45;&gt;140110610414080</title>\n",
       "<path fill=\"none\" stroke=\"black\" d=\"M186.5,-231.6C186.5,-223.99 186.5,-215.06 186.5,-206.43\"/>\n",
       "<polygon fill=\"black\" stroke=\"black\" points=\"190,-206.16 186.5,-196.16 183,-206.16 190,-206.16\"/>\n",
       "</g>\n",
       "<!-- 140110610413696 -->\n",
       "<g id=\"node6\" class=\"node\">\n",
       "<title>140110610413696</title>\n",
       "<polygon fill=\"lightgrey\" stroke=\"black\" points=\"231,-350 142,-350 142,-309 231,-309 231,-350\"/>\n",
       "<text text-anchor=\"middle\" x=\"186.5\" y=\"-338\" font-family=\"monospace\" font-size=\"10.00\">AddBackward0</text>\n",
       "<text text-anchor=\"middle\" x=\"186.5\" y=\"-327\" font-family=\"monospace\" font-size=\"10.00\">&#45;&#45;&#45;&#45;&#45;&#45;&#45;&#45;&#45;&#45;&#45;&#45;</text>\n",
       "<text text-anchor=\"middle\" x=\"186.5\" y=\"-316\" font-family=\"monospace\" font-size=\"10.00\">alpha: 1</text>\n",
       "</g>\n",
       "<!-- 140110610413696&#45;&gt;140110610413312 -->\n",
       "<g id=\"edge4\" class=\"edge\">\n",
       "<title>140110610413696&#45;&gt;140110610413312</title>\n",
       "<path fill=\"none\" stroke=\"black\" d=\"M186.5,-308.79C186.5,-300.96 186.5,-291.77 186.5,-283.16\"/>\n",
       "<polygon fill=\"black\" stroke=\"black\" points=\"190,-283.07 186.5,-273.07 183,-283.07 190,-283.07\"/>\n",
       "</g>\n",
       "<!-- 140110610414032 -->\n",
       "<g id=\"node7\" class=\"node\">\n",
       "<title>140110610414032</title>\n",
       "<polygon fill=\"lightgrey\" stroke=\"black\" points=\"143,-438 0,-438 0,-386 143,-386 143,-438\"/>\n",
       "<text text-anchor=\"middle\" x=\"71.5\" y=\"-426\" font-family=\"monospace\" font-size=\"10.00\">MulBackward0</text>\n",
       "<text text-anchor=\"middle\" x=\"71.5\" y=\"-415\" font-family=\"monospace\" font-size=\"10.00\">&#45;&#45;&#45;&#45;&#45;&#45;&#45;&#45;&#45;&#45;&#45;&#45;&#45;&#45;&#45;&#45;&#45;&#45;&#45;&#45;&#45;</text>\n",
       "<text text-anchor=\"middle\" x=\"71.5\" y=\"-404\" font-family=\"monospace\" font-size=\"10.00\">other: [saved tensor]</text>\n",
       "<text text-anchor=\"middle\" x=\"71.5\" y=\"-393\" font-family=\"monospace\" font-size=\"10.00\">self : &#160;&#160;&#160;&#160;&#160;&#160;&#160;&#160;&#160;&#160;None</text>\n",
       "</g>\n",
       "<!-- 140110610414032&#45;&gt;140110610413696 -->\n",
       "<g id=\"edge5\" class=\"edge\">\n",
       "<title>140110610414032&#45;&gt;140110610413696</title>\n",
       "<path fill=\"none\" stroke=\"black\" d=\"M107.26,-385.97C120.91,-376.42 136.47,-365.52 150.18,-355.93\"/>\n",
       "<polygon fill=\"black\" stroke=\"black\" points=\"152.25,-358.75 158.43,-350.15 148.24,-353.01 152.25,-358.75\"/>\n",
       "</g>\n",
       "<!-- 140115192132768 -->\n",
       "<g id=\"node8\" class=\"node\">\n",
       "<title>140115192132768</title>\n",
       "<polygon fill=\"orange\" stroke=\"black\" points=\"98.5,-344.5 44.5,-344.5 44.5,-314.5 98.5,-314.5 98.5,-344.5\"/>\n",
       "<text text-anchor=\"middle\" x=\"71.5\" y=\"-332.5\" font-family=\"monospace\" font-size=\"10.00\">other</text>\n",
       "<text text-anchor=\"middle\" x=\"71.5\" y=\"-321.5\" font-family=\"monospace\" font-size=\"10.00\"> (2)</text>\n",
       "</g>\n",
       "<!-- 140110610414032&#45;&gt;140115192132768 -->\n",
       "<g id=\"edge6\" class=\"edge\">\n",
       "<title>140110610414032&#45;&gt;140115192132768</title>\n",
       "<path fill=\"none\" stroke=\"black\" d=\"M71.5,-385.97C71.5,-372.49 71.5,-356.35 71.5,-344.96\"/>\n",
       "</g>\n",
       "<!-- 140110610412928 -->\n",
       "<g id=\"node9\" class=\"node\">\n",
       "<title>140110610412928</title>\n",
       "<polygon fill=\"lightgrey\" stroke=\"black\" points=\"122,-498.5 21,-498.5 21,-479.5 122,-479.5 122,-498.5\"/>\n",
       "<text text-anchor=\"middle\" x=\"71.5\" y=\"-486.5\" font-family=\"monospace\" font-size=\"10.00\">AccumulateGrad</text>\n",
       "</g>\n",
       "<!-- 140110610412928&#45;&gt;140110610414032 -->\n",
       "<g id=\"edge7\" class=\"edge\">\n",
       "<title>140110610412928&#45;&gt;140110610414032</title>\n",
       "<path fill=\"none\" stroke=\"black\" d=\"M71.5,-479.4C71.5,-471.66 71.5,-459.76 71.5,-448.16\"/>\n",
       "<polygon fill=\"black\" stroke=\"black\" points=\"75,-448.15 71.5,-438.15 68,-448.15 75,-448.15\"/>\n",
       "</g>\n",
       "<!-- 140111464981184 -->\n",
       "<g id=\"node10\" class=\"node\">\n",
       "<title>140111464981184</title>\n",
       "<polygon fill=\"lightblue\" stroke=\"black\" points=\"98.5,-570 44.5,-570 44.5,-540 98.5,-540 98.5,-570\"/>\n",
       "<text text-anchor=\"middle\" x=\"71.5\" y=\"-558\" font-family=\"monospace\" font-size=\"10.00\">A</text>\n",
       "<text text-anchor=\"middle\" x=\"71.5\" y=\"-547\" font-family=\"monospace\" font-size=\"10.00\"> (1)</text>\n",
       "</g>\n",
       "<!-- 140111464981184&#45;&gt;140110610412928 -->\n",
       "<g id=\"edge8\" class=\"edge\">\n",
       "<title>140111464981184&#45;&gt;140110610412928</title>\n",
       "<path fill=\"none\" stroke=\"black\" d=\"M71.5,-539.8C71.5,-530.7 71.5,-518.79 71.5,-508.9\"/>\n",
       "<polygon fill=\"black\" stroke=\"black\" points=\"75,-508.84 71.5,-498.84 68,-508.84 75,-508.84\"/>\n",
       "</g>\n",
       "<!-- 140110610415568 -->\n",
       "<g id=\"node11\" class=\"node\">\n",
       "<title>140110610415568</title>\n",
       "<polygon fill=\"lightgrey\" stroke=\"black\" points=\"262,-421.5 161,-421.5 161,-402.5 262,-402.5 262,-421.5\"/>\n",
       "<text text-anchor=\"middle\" x=\"211.5\" y=\"-409.5\" font-family=\"monospace\" font-size=\"10.00\">AccumulateGrad</text>\n",
       "</g>\n",
       "<!-- 140110610415568&#45;&gt;140110610413696 -->\n",
       "<g id=\"edge9\" class=\"edge\">\n",
       "<title>140110610415568&#45;&gt;140110610413696</title>\n",
       "<path fill=\"none\" stroke=\"black\" d=\"M208.82,-402.39C205.69,-392.3 200.34,-375.06 195.66,-359.99\"/>\n",
       "<polygon fill=\"black\" stroke=\"black\" points=\"198.87,-358.53 192.56,-350.02 192.19,-360.61 198.87,-358.53\"/>\n",
       "</g>\n",
       "<!-- 140111744035792 -->\n",
       "<g id=\"node12\" class=\"node\">\n",
       "<title>140111744035792</title>\n",
       "<polygon fill=\"lightblue\" stroke=\"black\" points=\"238.5,-504 184.5,-504 184.5,-474 238.5,-474 238.5,-504\"/>\n",
       "<text text-anchor=\"middle\" x=\"211.5\" y=\"-492\" font-family=\"monospace\" font-size=\"10.00\">B</text>\n",
       "<text text-anchor=\"middle\" x=\"211.5\" y=\"-481\" font-family=\"monospace\" font-size=\"10.00\"> (1)</text>\n",
       "</g>\n",
       "<!-- 140111744035792&#45;&gt;140110610415568 -->\n",
       "<g id=\"edge10\" class=\"edge\">\n",
       "<title>140111744035792&#45;&gt;140110610415568</title>\n",
       "<path fill=\"none\" stroke=\"black\" d=\"M211.5,-473.89C211.5,-462.08 211.5,-445.1 211.5,-432.08\"/>\n",
       "<polygon fill=\"black\" stroke=\"black\" points=\"215,-431.87 211.5,-421.87 208,-431.87 215,-431.87\"/>\n",
       "</g>\n",
       "</g>\n",
       "</svg>\n"
      ],
      "text/plain": [
       "<graphviz.graphs.Digraph at 0x7f6e0b29b0d0>"
      ]
     },
     "execution_count": 12,
     "metadata": {},
     "output_type": "execute_result"
    }
   ],
   "source": [
    "torchviz.make_dot(loss, params={'A': A, 'B': B, 'x': x, 'diff': diff}, show_attrs=True, show_saved=True)"
   ]
  },
  {
   "cell_type": "code",
   "execution_count": null,
   "id": "fe1e76d7-6727-433d-b825-eeb556b9293f",
   "metadata": {},
   "outputs": [],
   "source": []
  }
 ],
 "metadata": {
  "kernelspec": {
   "display_name": "Python 3 (ipykernel)",
   "language": "python",
   "name": "python3"
  },
  "language_info": {
   "codemirror_mode": {
    "name": "ipython",
    "version": 3
   },
   "file_extension": ".py",
   "mimetype": "text/x-python",
   "name": "python",
   "nbconvert_exporter": "python",
   "pygments_lexer": "ipython3",
   "version": "3.9.5"
  }
 },
 "nbformat": 4,
 "nbformat_minor": 5
}
